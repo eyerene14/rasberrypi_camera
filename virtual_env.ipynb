{
 "cells": [
  {
   "cell_type": "code",
   "execution_count": 8,
   "metadata": {},
   "outputs": [
    {
     "data": {
      "text/plain": [
       "'/Users/ijaramillo/Documents/raspberryPi_projects/raspberryPiCam'"
      ]
     },
     "execution_count": 8,
     "metadata": {},
     "output_type": "execute_result"
    }
   ],
   "source": [
    "import os\n",
    "\n",
    "%pwd"
   ]
  },
  {
   "cell_type": "code",
   "execution_count": 1,
   "metadata": {},
   "outputs": [
    {
     "data": {
      "text/plain": [
       "'raspy'"
      ]
     },
     "execution_count": 1,
     "metadata": {},
     "output_type": "execute_result"
    }
   ],
   "source": [
    "name = input('What is the name of the virtual environment?')\n",
    "name"
   ]
  },
  {
   "cell_type": "markdown",
   "metadata": {},
   "source": [
    "Make a virtual environment if necessary"
   ]
  },
  {
   "cell_type": "code",
   "execution_count": 2,
   "metadata": {},
   "outputs": [
    {
     "name": "stdout",
     "output_type": "stream",
     "text": [
      "total 48\n",
      "drwxr-xr-x@ 8 ijaramillo  staff    256 Nov  1 11:15 \u001b[34m.\u001b[m\u001b[m\n",
      "drwxr-xr-x  5 ijaramillo  staff    160 Nov  1 10:25 \u001b[34m..\u001b[m\u001b[m\n",
      "drwxr-xr-x  9 ijaramillo  staff    288 Oct 31 16:35 \u001b[34m.git\u001b[m\u001b[m\n",
      "-rw-r--r--  1 ijaramillo  staff      0 Nov  1 10:22 camera_ctrl.py\n",
      "-rw-r--r--  1 ijaramillo  staff    216 Nov  1 11:15 connectToRaspy.py\n",
      "drwxr-xr-x  6 ijaramillo  staff    192 Nov  1 10:34 \u001b[34mraspi\u001b[m\u001b[m\n",
      "-rw-r--r--@ 1 ijaramillo  staff    133 Jul  7 17:10 requirements.txt\n",
      "-rw-r--r--  1 ijaramillo  staff  13461 Nov  1 13:25 virtual_env.ipynb\n"
     ]
    }
   ],
   "source": [
    "def createVirtualEnvironment(name):\n",
    "    !{f'python -m venv ' + name}\n",
    "    !{'ls -la'}\n",
    "\n",
    "createVirtualEnvironment('raspi')"
   ]
  },
  {
   "cell_type": "code",
   "execution_count": 3,
   "metadata": {},
   "outputs": [],
   "source": [
    "def activateVirtualEnvironment(name):\n",
    "    !{f'. ' + name + '/bin/activate -m venv '}\n",
    "\n",
    "\n",
    "activateVirtualEnvironment('raspi')\n"
   ]
  },
  {
   "cell_type": "code",
   "execution_count": 13,
   "metadata": {},
   "outputs": [
    {
     "name": "stdout",
     "output_type": "stream",
     "text": [
      "Collecting alembic==1.6.5\n",
      "  Downloading alembic-1.6.5-py2.py3-none-any.whl (164 kB)\n",
      "\u001b[2K     \u001b[90m━━━━━━━━━━━━━━━━━━━━━━━━━━━━━━━━━━━━━━━\u001b[0m \u001b[32m164.7/164.7 kB\u001b[0m \u001b[31m4.4 MB/s\u001b[0m eta \u001b[36m0:00:00\u001b[0m\n",
      "\u001b[?25hCollecting Faker==8.5.1\n",
      "  Downloading Faker-8.5.1-py3-none-any.whl (1.2 MB)\n",
      "\u001b[2K     \u001b[90m━━━━━━━━━━━━━━━━━━━━━━━━━━━━━━━━━━━━━━━━\u001b[0m \u001b[32m1.2/1.2 MB\u001b[0m \u001b[31m8.9 MB/s\u001b[0m eta \u001b[36m0:00:00\u001b[0m:00:01\u001b[0m00:01\u001b[0m\n",
      "\u001b[?25hCollecting Flask==2.0.1\n",
      "  Downloading Flask-2.0.1-py3-none-any.whl (94 kB)\n",
      "\u001b[2K     \u001b[90m━━━━━━━━━━━━━━━━━━━━━━━━━━━━━━━━━━━━━━━━\u001b[0m \u001b[32m94.8/94.8 kB\u001b[0m \u001b[31m3.3 MB/s\u001b[0m eta \u001b[36m0:00:00\u001b[0m\n",
      "\u001b[?25hCollecting Flask-Migrate==3.0.1\n",
      "  Downloading Flask_Migrate-3.0.1-py2.py3-none-any.whl (12 kB)\n",
      "Collecting Flask-SQLAlchemy==2.5.1\n",
      "  Downloading Flask_SQLAlchemy-2.5.1-py2.py3-none-any.whl (17 kB)\n",
      "Collecting psycopg2-binary==2.9.1\n",
      "  Downloading psycopg2_binary-2.9.1-cp39-cp39-macosx_10_14_x86_64.macosx_10_9_intel.macosx_10_9_x86_64.macosx_10_10_intel.macosx_10_10_x86_64.whl (2.1 MB)\n",
      "\u001b[2K     \u001b[90m━━━━━━━━━━━━━━━━━━━━━━━━━━━━━━━━━━━━━━━━\u001b[0m \u001b[32m2.1/2.1 MB\u001b[0m \u001b[31m9.9 MB/s\u001b[0m eta \u001b[36m0:00:00\u001b[0m:00:01\u001b[0m00:01\u001b[0m\n",
      "\u001b[?25hCollecting SQLAlchemy==1.4.17\n",
      "  Downloading SQLAlchemy-1.4.17-cp39-cp39-macosx_10_14_x86_64.whl (1.5 MB)\n",
      "\u001b[2K     \u001b[90m━━━━━━━━━━━━━━━━━━━━━━━━━━━━━━━━━━━━━━━━\u001b[0m \u001b[32m1.5/1.5 MB\u001b[0m \u001b[31m9.3 MB/s\u001b[0m eta \u001b[36m0:00:00\u001b[0m:00:01\u001b[0m00:01\u001b[0m\n",
      "\u001b[?25hCollecting python-editor>=0.3\n",
      "  Downloading python_editor-1.0.4-py3-none-any.whl (4.9 kB)\n",
      "Collecting Mako\n",
      "  Downloading Mako-1.2.3-py3-none-any.whl (78 kB)\n",
      "\u001b[2K     \u001b[90m━━━━━━━━━━━━━━━━━━━━━━━━━━━━━━━━━━━━━━━━\u001b[0m \u001b[32m78.7/78.7 kB\u001b[0m \u001b[31m3.0 MB/s\u001b[0m eta \u001b[36m0:00:00\u001b[0m\n",
      "\u001b[?25hRequirement already satisfied: python-dateutil in /Users/ijaramillo/.pyenv/versions/3.9.9/lib/python3.9/site-packages (from alembic==1.6.5->-r requirements.txt (line 1)) (2.8.2)\n",
      "Collecting text-unidecode==1.3\n",
      "  Downloading text_unidecode-1.3-py2.py3-none-any.whl (78 kB)\n",
      "\u001b[2K     \u001b[90m━━━━━━━━━━━━━━━━━━━━━━━━━━━━━━━━━━━━━━━━\u001b[0m \u001b[32m78.2/78.2 kB\u001b[0m \u001b[31m2.7 MB/s\u001b[0m eta \u001b[36m0:00:00\u001b[0m\n",
      "\u001b[?25hCollecting Jinja2>=3.0\n",
      "  Using cached Jinja2-3.1.2-py3-none-any.whl (133 kB)\n",
      "Collecting Werkzeug>=2.0\n",
      "  Downloading Werkzeug-2.2.2-py3-none-any.whl (232 kB)\n",
      "\u001b[2K     \u001b[90m━━━━━━━━━━━━━━━━━━━━━━━━━━━━━━━━━━━━━━━\u001b[0m \u001b[32m232.7/232.7 kB\u001b[0m \u001b[31m5.2 MB/s\u001b[0m eta \u001b[36m0:00:00\u001b[0ma \u001b[36m0:00:01\u001b[0m\n",
      "\u001b[?25hCollecting itsdangerous>=2.0\n",
      "  Downloading itsdangerous-2.1.2-py3-none-any.whl (15 kB)\n",
      "Collecting click>=7.1.2\n",
      "  Using cached click-8.1.3-py3-none-any.whl (96 kB)\n",
      "Collecting greenlet!=0.4.17\n",
      "  Downloading greenlet-2.0.0-cp39-cp39-macosx_10_15_x86_64.whl (200 kB)\n",
      "\u001b[2K     \u001b[90m━━━━━━━━━━━━━━━━━━━━━━━━━━━━━━━━━━━━━━━\u001b[0m \u001b[32m200.6/200.6 kB\u001b[0m \u001b[31m4.4 MB/s\u001b[0m eta \u001b[36m0:00:00\u001b[0ma \u001b[36m0:00:01\u001b[0m\n",
      "\u001b[?25hCollecting MarkupSafe>=2.0\n",
      "  Using cached MarkupSafe-2.1.1-cp39-cp39-macosx_10_9_x86_64.whl (13 kB)\n",
      "Requirement already satisfied: six>=1.5 in /Users/ijaramillo/.pyenv/versions/3.9.9/lib/python3.9/site-packages (from python-dateutil->alembic==1.6.5->-r requirements.txt (line 1)) (1.16.0)\n",
      "Installing collected packages: text-unidecode, python-editor, psycopg2-binary, MarkupSafe, itsdangerous, greenlet, click, Werkzeug, SQLAlchemy, Mako, Jinja2, Faker, Flask, alembic, Flask-SQLAlchemy, Flask-Migrate\n",
      "Successfully installed Faker-8.5.1 Flask-2.0.1 Flask-Migrate-3.0.1 Flask-SQLAlchemy-2.5.1 Jinja2-3.1.2 Mako-1.2.3 MarkupSafe-2.1.1 SQLAlchemy-1.4.17 Werkzeug-2.2.2 alembic-1.6.5 click-8.1.3 greenlet-2.0.0 itsdangerous-2.1.2 psycopg2-binary-2.9.1 python-editor-1.0.4 text-unidecode-1.3\n",
      "\n",
      "\u001b[1m[\u001b[0m\u001b[34;49mnotice\u001b[0m\u001b[1;39;49m]\u001b[0m\u001b[39;49m A new release of pip available: \u001b[0m\u001b[31;49m22.2.2\u001b[0m\u001b[39;49m -> \u001b[0m\u001b[32;49m22.3\u001b[0m\n",
      "\u001b[1m[\u001b[0m\u001b[34;49mnotice\u001b[0m\u001b[1;39;49m]\u001b[0m\u001b[39;49m To update, run: \u001b[0m\u001b[32;49mpip install --upgrade pip\u001b[0m\n",
      "Package            Version\n",
      "------------------ ---------\n",
      "alembic            1.6.5\n",
      "appnope            0.1.3\n",
      "astroid            2.11.7\n",
      "asttokens          2.0.8\n",
      "autopep8           1.7.0\n",
      "backcall           0.2.0\n",
      "certifi            2022.9.24\n",
      "charset-normalizer 2.1.1\n",
      "click              8.1.3\n",
      "cssselect          1.1.0\n",
      "cycler             0.11.0\n",
      "debugpy            1.6.3\n",
      "decorator          5.1.1\n",
      "dill               0.3.5.1\n",
      "entrypoints        0.4\n",
      "executing          1.1.0\n",
      "Faker              8.5.1\n",
      "Flask              2.0.1\n",
      "Flask-Migrate      3.0.1\n",
      "Flask-SQLAlchemy   2.5.1\n",
      "fonttools          4.37.1\n",
      "greenlet           2.0.0\n",
      "idna               3.4\n",
      "ipykernel          6.17.0\n",
      "ipython            8.5.0\n",
      "isort              5.10.1\n",
      "itsdangerous       2.1.2\n",
      "jedi               0.18.1\n",
      "Jinja2             3.1.2\n",
      "jupyter_client     7.4.4\n",
      "jupyter_core       4.11.2\n",
      "kiwisolver         1.4.4\n",
      "lazy-object-proxy  1.7.1\n",
      "lxml               4.9.1\n",
      "Mako               1.2.3\n",
      "MarkupSafe         2.1.1\n",
      "matplotlib         3.5.3\n",
      "matplotlib-inline  0.1.6\n",
      "mccabe             0.7.0\n",
      "nest-asyncio       1.5.6\n",
      "numpy              1.23.2\n",
      "packaging          21.3\n",
      "pandas             1.4.4\n",
      "parso              0.8.3\n",
      "pdfminer           20191125\n",
      "pep8               1.7.1\n",
      "pexpect            4.8.0\n",
      "pickleshare        0.7.5\n",
      "Pillow             9.2.0\n",
      "pip                22.2.2\n",
      "platformdirs       2.5.2\n",
      "prompt-toolkit     3.0.31\n",
      "psutil             5.9.3\n",
      "psycopg2-binary    2.9.1\n",
      "ptyprocess         0.7.0\n",
      "pure-eval          0.2.2\n",
      "pycodestyle        2.9.1\n",
      "pycryptodome       3.15.0\n",
      "Pygments           2.13.0\n",
      "pylint             2.14.5\n",
      "pyparsing          3.0.9\n",
      "python-dateutil    2.8.2\n",
      "python-editor      1.0.4\n",
      "pytz               2022.2.1\n",
      "pyzmq              24.0.1\n",
      "requests           2.28.1\n",
      "scipy              1.9.1\n",
      "setuptools         58.1.0\n",
      "six                1.16.0\n",
      "SQLAlchemy         1.4.17\n",
      "stack-data         0.5.1\n",
      "text-unidecode     1.3\n",
      "toml               0.10.2\n",
      "tomli              2.0.1\n",
      "tomlkit            0.11.4\n",
      "tornado            6.2\n",
      "traitlets          5.4.0\n",
      "typing_extensions  4.3.0\n",
      "urllib3            1.26.12\n",
      "wcwidth            0.2.5\n",
      "Werkzeug           2.2.2\n",
      "wrapt              1.14.1\n",
      "\n",
      "\u001b[1m[\u001b[0m\u001b[34;49mnotice\u001b[0m\u001b[1;39;49m]\u001b[0m\u001b[39;49m A new release of pip available: \u001b[0m\u001b[31;49m22.2.2\u001b[0m\u001b[39;49m -> \u001b[0m\u001b[32;49m22.3\u001b[0m\n",
      "\u001b[1m[\u001b[0m\u001b[34;49mnotice\u001b[0m\u001b[1;39;49m]\u001b[0m\u001b[39;49m To update, run: \u001b[0m\u001b[32;49mpip install --upgrade pip\u001b[0m\n"
     ]
    }
   ],
   "source": [
    "def importPackagesToVenv():\n",
    "    if os.path.exists('requirements.txt')\n",
    "        !{f' python -m pip install -r requirements.txt'}\n",
    "        !pip list\n",
    "    else:\n",
    "        print(\"requirements.txt file is not in current folder\")\n",
    "\n",
    "importPackagesToVenv()"
   ]
  },
  {
   "cell_type": "code",
   "execution_count": 14,
   "metadata": {},
   "outputs": [
    {
     "ename": "TypeError",
     "evalue": "stopVirtualEnvironment() missing 1 required positional argument: 'name'",
     "output_type": "error",
     "traceback": [
      "\u001b[0;31m---------------------------------------------------------------------------\u001b[0m",
      "\u001b[0;31mTypeError\u001b[0m                                 Traceback (most recent call last)",
      "Cell \u001b[0;32mIn [14], line 4\u001b[0m\n\u001b[1;32m      1\u001b[0m \u001b[39mdef\u001b[39;00m \u001b[39mstopVirtualEnvironment\u001b[39m(name):\n\u001b[1;32m      2\u001b[0m     get_ipython()\u001b[39m.\u001b[39msystem(\u001b[39m\"\u001b[39m\u001b[39m{\u001b[39m\u001b[39mf\u001b[39m\u001b[39m'\u001b[39m\u001b[39mdeactivate\u001b[39m\u001b[39m'\u001b[39m\u001b[39m}\u001b[39m\u001b[39m\"\u001b[39m)\n\u001b[0;32m----> 4\u001b[0m stopVirtualEnvironment()\n",
      "\u001b[0;31mTypeError\u001b[0m: stopVirtualEnvironment() missing 1 required positional argument: 'name'"
     ]
    }
   ],
   "source": [
    "def stopVirtualEnvironment():\n",
    "    !{f'deactivate'}\n",
    "\n",
    "stopVirtualEnvironment()\n"
   ]
  }
 ],
 "metadata": {
  "kernelspec": {
   "display_name": "Python 3.9.9 64-bit ('3.9.9')",
   "language": "python",
   "name": "python3"
  },
  "language_info": {
   "codemirror_mode": {
    "name": "ipython",
    "version": 3
   },
   "file_extension": ".py",
   "mimetype": "text/x-python",
   "name": "python",
   "nbconvert_exporter": "python",
   "pygments_lexer": "ipython3",
   "version": "3.9.9"
  },
  "orig_nbformat": 4,
  "vscode": {
   "interpreter": {
    "hash": "bd4b18b6eef2ceab820486410877a663b13b38348ede62a06b14d2ef2d297b86"
   }
  }
 },
 "nbformat": 4,
 "nbformat_minor": 2
}
