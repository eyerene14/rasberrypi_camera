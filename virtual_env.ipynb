{
 "cells": [
  {
   "cell_type": "code",
   "execution_count": 8,
   "metadata": {},
   "outputs": [
    {
     "data": {
      "text/plain": [
       "'/Users/ijaramillo/Documents/raspberryPi_projects/raspberryPiCam'"
      ]
     },
     "execution_count": 8,
     "metadata": {},
     "output_type": "execute_result"
    }
   ],
   "source": [
    "import os\n",
    "\n",
    "%pwd"
   ]
  },
  {
   "cell_type": "code",
   "execution_count": 1,
   "metadata": {},
   "outputs": [
    {
     "data": {
      "text/plain": [
       "'raspy'"
      ]
     },
     "execution_count": 1,
     "metadata": {},
     "output_type": "execute_result"
    }
   ],
   "source": [
    "#name = 'raspi'\n",
    "name = (input('What is the name of the virtual environment?') if name == '' else name)\n",
    "name"
   ]
  },
  {
   "cell_type": "markdown",
   "metadata": {},
   "source": [
    "Make a virtual environment if necessary"
   ]
  },
  {
   "cell_type": "code",
   "execution_count": 2,
   "metadata": {},
   "outputs": [
    {
     "name": "stdout",
     "output_type": "stream",
     "text": [
      "total 48\n",
      "drwxr-xr-x@ 8 ijaramillo  staff    256 Nov  1 11:15 \u001b[34m.\u001b[m\u001b[m\n",
      "drwxr-xr-x  5 ijaramillo  staff    160 Nov  1 10:25 \u001b[34m..\u001b[m\u001b[m\n",
      "drwxr-xr-x  9 ijaramillo  staff    288 Oct 31 16:35 \u001b[34m.git\u001b[m\u001b[m\n",
      "-rw-r--r--  1 ijaramillo  staff      0 Nov  1 10:22 camera_ctrl.py\n",
      "-rw-r--r--  1 ijaramillo  staff    216 Nov  1 11:15 connectToRaspy.py\n",
      "drwxr-xr-x  6 ijaramillo  staff    192 Nov  1 10:34 \u001b[34mraspi\u001b[m\u001b[m\n",
      "-rw-r--r--@ 1 ijaramillo  staff    133 Jul  7 17:10 requirements.txt\n",
      "-rw-r--r--  1 ijaramillo  staff  13461 Nov  1 13:25 virtual_env.ipynb\n"
     ]
    }
   ],
   "source": [
    "def createVirtualEnvironment():\n",
    "    !{f'python -m venv ' + name}\n",
    "    !{'ls -la'}\n",
    "\n",
    "createVirtualEnvironment()"
   ]
  },
  {
   "cell_type": "code",
   "execution_count": 5,
   "metadata": {},
   "outputs": [],
   "source": [
    "def activateVirtualEnvironment():\n",
    "    !{f'. ' + name + '/bin/activate'}\n",
    "\n",
    "\n",
    "activateVirtualEnvironment()\n"
   ]
  },
  {
   "cell_type": "code",
   "execution_count": null,
   "metadata": {},
   "outputs": [],
   "source": [
    "def importPackagesToVenv():\n",
    "    if os.path.exists('requirements.txt'):\n",
    "        !{f' python -m pip install -r requirements.txt'}\n",
    "        !pip list\n",
    "    else:\n",
    "        print(\"requirements.txt file is not in current folder\")\n",
    "\n",
    "importPackagesToVenv()"
   ]
  },
  {
   "cell_type": "code",
   "execution_count": null,
   "metadata": {},
   "outputs": [],
   "source": [
    "def stopVirtualEnvironment():\n",
    "    !{f'deactivate'}\n",
    "\n",
    "stopVirtualEnvironment()\n"
   ]
  }
 ],
 "metadata": {
  "kernelspec": {
   "display_name": "Python 3.9.9 64-bit ('3.9.9')",
   "language": "python",
   "name": "python3"
  },
  "language_info": {
   "codemirror_mode": {
    "name": "ipython",
    "version": 3
   },
   "file_extension": ".py",
   "mimetype": "text/x-python",
   "name": "python",
   "nbconvert_exporter": "python",
   "pygments_lexer": "ipython3",
   "version": "3.9.9"
  },
  "orig_nbformat": 4,
  "vscode": {
   "interpreter": {
    "hash": "bd4b18b6eef2ceab820486410877a663b13b38348ede62a06b14d2ef2d297b86"
   }
  }
 },
 "nbformat": 4,
 "nbformat_minor": 2
}
